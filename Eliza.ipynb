{
  "cells": [
    {
      "cell_type": "markdown",
      "metadata": {
        "id": "view-in-github",
        "colab_type": "text"
      },
      "source": [
        "<a href=\"https://colab.research.google.com/github/SoumyaAIDev/Hugging_Face_LLM_models/blob/main/Eliza.ipynb\" target=\"_parent\"><img src=\"https://colab.research.google.com/assets/colab-badge.svg\" alt=\"Open In Colab\"/></a>"
      ]
    },
    {
      "cell_type": "code",
      "execution_count": null,
      "metadata": {
        "id": "Jv2cWUCTf0Fg"
      },
      "outputs": [],
      "source": [
        "import re\n",
        "import random"
      ]
    },
    {
      "cell_type": "code",
      "execution_count": null,
      "metadata": {
        "id": "3llH2UH4gN_U"
      },
      "outputs": [],
      "source": [
        "response = {\n",
        "    \"hello\": [\"Hello, how can I help you\"],\n",
        "    \"I feel (.*)\": [\"why do you feel{}\",\"How long you been feeling{}?\"],\n",
        "    \"I am (.*)\": [\"why do you are {}?\", \"how long have you been {}?\"],\n",
        "    \"I'm (.*)\" : [\"why are you {}?\", \"how long have you been {}?\"],\n",
        "    \"i (.*) you\":[\"why do you{} me?\",\"what makes you think you {} yourself?\"]\n",
        "\n",
        "}"
      ]
    },
    {
      "cell_type": "code",
      "execution_count": null,
      "metadata": {
        "id": "Kkz_95XXij8K"
      },
      "outputs": [],
      "source": [
        "def match_response(input_text):\n",
        "  for pattern, response_list in response.items():\n",
        "    matches = re.match(pattern, input_text.lower())\n",
        "    if matches:\n",
        "      chosen_response = random.choice(response_list)\n",
        "      return  chosen_response.format(*matches.groups())\n",
        "\n",
        "  return \"I'm sorry I don't understand what you're saying.\""
      ]
    },
    {
      "cell_type": "code",
      "execution_count": null,
      "metadata": {
        "id": "y9_NhhLxzkhP"
      },
      "outputs": [],
      "source": []
    },
    {
      "cell_type": "code",
      "execution_count": null,
      "metadata": {
        "colab": {
          "base_uri": "https://localhost:8080/"
        },
        "id": "VSsQ1tMQkB7M",
        "outputId": "892923e0-b40c-444b-dd72-2c8c3e9a8966"
      },
      "outputs": [
        {
          "name": "stdout",
          "output_type": "stream",
          "text": [
            "welcome to the Eliza Psychotherapist chatbot\n",
            "you:Hi\n",
            "Eliza: I'm sorry I don;t understand what you're saying.\n",
            "you:bye\n",
            "Eliza: Goodbye.\n"
          ]
        }
      ],
      "source": [
        "print(\"welcome to the Eliza Psychotherapist chatbot\")\n",
        "while True:\n",
        "  user_input = input(\"you:\")\n",
        "  if user_input.lower() == \"bye\":\n",
        "    print(\"Eliza: Goodbye.\")\n",
        "    break\n",
        "  else:\n",
        "    print(\"Eliza: \"+match_response(user_input))"
      ]
    },
    {
      "cell_type": "code",
      "execution_count": null,
      "metadata": {
        "id": "U4SsY0Fjzl6n"
      },
      "outputs": [],
      "source": [
        "import re\n",
        "\n",
        "responses = {\n",
        "    r\"I need (.*)\": \"Why do you need {0}?\",\n",
        "    r\"I feel (.*)\": \"Why do you feel {0}?\",\n",
        "    r\"My (.*)\": \"Tell me more about your {0}.\",\n",
        "    r\"(.*)\": \"Please go on.\",\n",
        "}"
      ]
    },
    {
      "cell_type": "code",
      "execution_count": null,
      "metadata": {
        "id": "QdEErman0Odk"
      },
      "outputs": [],
      "source": [
        "def eliza_response(user_input):\n",
        "    for pattern, response in responses.items():\n",
        "        match = re.match(pattern, user_input, re.IGNORECASE)\n",
        "        if match:\n",
        "            return response.format(*match.groups())\n",
        "    return \"I'm not sure I understand. Can you elaborate?\""
      ]
    },
    {
      "cell_type": "code",
      "execution_count": null,
      "metadata": {
        "colab": {
          "background_save": true,
          "base_uri": "https://localhost:8080/"
        },
        "id": "PxzL_bWJ0Y00",
        "outputId": "6a89d2cf-c4eb-4523-e823-29bd1e338538"
      },
      "outputs": [
        {
          "metadata": {
            "tags": null
          },
          "name": "stdout",
          "output_type": "stream",
          "text": [
            "ELIZA: Hello, I am ELIZA. How can I help you? (Type 'quit' to exit)\n",
            "ELIZA: Please go on.\n",
            "ELIZA: Please go on.\n"
          ]
        }
      ],
      "source": [
        "print(\"ELIZA: Hello, I am ELIZA. How can I help you? (Type 'quit' to exit)\")\n",
        "while True:\n",
        "    user_input = input(\"You: \")\n",
        "    if user_input.lower() in [\"quit\", \"exit\"]:\n",
        "        print(\"ELIZA: Goodbye!\")\n",
        "        break\n",
        "    print(f\"ELIZA: {eliza_response(user_input)}\")"
      ]
    }
  ],
  "metadata": {
    "colab": {
      "provenance": [],
      "authorship_tag": "ABX9TyNrQIyxLDkPBDweydwkCpbO",
      "include_colab_link": true
    },
    "kernelspec": {
      "display_name": "Python 3",
      "name": "python3"
    },
    "language_info": {
      "name": "python"
    }
  },
  "nbformat": 4,
  "nbformat_minor": 0
}